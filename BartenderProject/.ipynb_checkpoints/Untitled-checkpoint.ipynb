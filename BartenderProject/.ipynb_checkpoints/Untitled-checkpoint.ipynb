{
 "cells": [
  {
   "cell_type": "code",
   "execution_count": null,
   "metadata": {},
   "outputs": [],
   "source": [
    "import random\n",
    "import re\n",
    "\n",
    "questions = {\n",
    "    \"strong\": \"Do ye like yer drinks strong?\",\n",
    "    \"salty\": \"Do ye like it with a salty tang?\",\n",
    "    \"bitter\": \"Are ye a lubber who likes it bitter?\",\n",
    "    \"sweet\": \"Would ye like a bit of sweetness with yer poison?\",\n",
    "    \"fruity\": \"Are ye one for a fruity finish?\",\n",
    "}\n",
    "\n",
    "ingredients = {\n",
    "    \"strong\": [\"glug of rum\", \"slug of whisky\", \"splash of gin\"],\n",
    "    \"salty\": [\"olive on a stick\", \"salt-dusted rim\", \"rasher of bacon\"],\n",
    "    \"bitter\": [\"shake of bitters\", \"splash of tonic\", \"twist of lemon peel\"],\n",
    "    \"sweet\": [\"sugar cube\", \"spoonful of honey\", \"spash of cola\"],\n",
    "    \"fruity\": [\"slice of orange\", \"dash of cassis\", \"cherry on top\"],\n",
    "}\n",
    "\n",
    "#print(questions)\n",
    "#print(ingredients)\n",
    "\n",
    "def chooseQuestion(q):\n",
    "    #print(list(questions))\n",
    "    #print(random.choice(list(questions.keys())))\n",
    "    #print(random.choice(list(questions.items())))\n",
    "    if q is None:\n",
    "        return random.choice(list(questions.items()))\n",
    "    else:\n",
    "        return random.choice([x for x in list(questions.items()) if x != q])\n",
    "\n",
    "def chooseIngredient(q_key):\n",
    "    #print(ingredients.get(q_key))\n",
    "    #print(random.choice(list(ingredients.get(q_key))))\n",
    "    return random.choice(list(ingredients.get(q_key)))\n",
    "\n",
    "\n",
    "def main():\n",
    "    my_question = None\n",
    "    while True:\n",
    "        my_question = chooseQuestion(my_question)\n",
    "        #print(my_question)\n",
    "        your_anwer = input(my_question[1])\n",
    "        if re.compile('^(yes|y|1)$').match(str(your_anwer).lower()):\n",
    "           print(\"Yes, today we have: \", chooseIngredient(my_question[0]))\n",
    "\n",
    "        print(\"\")\n",
    "        print(\"Thank you!!!\")\n",
    "        print(\"_______________________^-^______________________\")\n",
    "        print(\"\")\n",
    "\n",
    "if __name__ == '__main__':\n",
    "    main()"
   ]
  }
 ],
 "metadata": {
  "kernelspec": {
   "display_name": "Python 3",
   "language": "python",
   "name": "python3"
  },
  "language_info": {
   "codemirror_mode": {
    "name": "ipython",
    "version": 3
   },
   "file_extension": ".py",
   "mimetype": "text/x-python",
   "name": "python",
   "nbconvert_exporter": "python",
   "pygments_lexer": "ipython3",
   "version": "3.6.5"
  }
 },
 "nbformat": 4,
 "nbformat_minor": 2
}
